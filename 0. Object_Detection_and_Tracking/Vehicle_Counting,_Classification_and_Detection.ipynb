{
 "cells": [
  {
   "cell_type": "markdown",
   "metadata": {
    "id": "Uh8bK2xe28t2"
   },
   "source": [
    "YOLO : You Only Look Once (Real time object recognition algorithm)\n",
    "\n",
    "\n",
    "1. It divides the image into NxN grids\n",
    "1. Bounding box regression : Each grid cell is sent to the model. Then YOLO determines the probability of the cell contains a certain class and the class with the maximum probability is chosen.\n",
    "1. Intersection Over Union (IOU) : metric that evaluates intersection between the predicted bounding box and the ground truth bounding box. A Non-max suppression technique is applied to eliminate the bounding boxes that are very close by performing the IoU with the one having the highest class probability among them.\n",
    "\n",
    "\n",
    "    IOU = B1 intersection B2 / B1 union B2\n",
    "  \n",
    "\n",
    "\n",
    "We then get a class probability Map\n",
    "\n",
    "\n",
    "\n",
    "# Network Architecture\n",
    "- The YOLO network has 24 convolutional layers followed by 2 fully connected layers. The convolutional layers are pre-trained on the ImageNet classification task at half the resolution (224 × 224 input image) and then double the resolution for detection.\n",
    "- The layers Alternating 1 × 1 reduction layer and 3×3 convolutional layer to reduce the feature space from preceding layers.\n",
    "- The last 4 layers are added to train the network for object detection.\n",
    "- The last layer predicts the object class probability and the bounding box probability."
   ]
  },
  {
   "cell_type": "markdown",
   "metadata": {
    "id": "EC7BmvDV4blR"
   },
   "source": [
    "# OpenCV DNN Module\n",
    "\n",
    "Used to implement YOLOv3. \n",
    "\n",
    "Classify : \n",
    "- Cars\n",
    "- Heavy Motor Vehicles\n",
    "- Light Motor Vehicles\n",
    "\n",
    "\n",
    "Count the number of vehicles\n",
    "Store the data to analyse it\n"
   ]
  },
  {
   "cell_type": "code",
   "execution_count": 1,
   "metadata": {
    "colab": {
     "base_uri": "https://localhost:8080/"
    },
    "id": "PvCuFDQP5iPP",
    "outputId": "12358f3a-4f50-4561-94a1-474d0f589d0e"
   },
   "outputs": [
    {
     "name": "stdout",
     "output_type": "stream",
     "text": [
      "Collecting opencv-python\n",
      "  Downloading opencv_python-4.6.0.66-cp36-abi3-macosx_10_15_x86_64.whl (46.4 MB)\n",
      "\u001b[K     |████████████████████████████████| 46.4 MB 813 kB/s eta 0:00:012    |████████████████                | 23.1 MB 7.2 MB/s eta 0:00:04     |███████████████████████████▍    | 39.8 MB 2.1 MB/s eta 0:00:04     |███████████████████████████▋    | 40.1 MB 2.1 MB/s eta 0:00:04\n",
      "\u001b[?25hCollecting numpy>=1.14.5\n",
      "  Using cached numpy-1.23.4-cp39-cp39-macosx_10_9_x86_64.whl (18.1 MB)\n",
      "Installing collected packages: numpy, opencv-python\n",
      "Successfully installed numpy-1.23.4 opencv-python-4.6.0.66\n",
      "\u001b[33mWARNING: You are using pip version 21.2.3; however, version 22.3 is available.\n",
      "You should consider upgrading via the '/Users/daver/Desktop/mini/env/bin/python3 -m pip install --upgrade pip' command.\u001b[0m\n",
      "Collecting opencv-contrib-python\n",
      "  Downloading opencv_contrib_python-4.6.0.66-cp36-abi3-macosx_10_15_x86_64.whl (56.1 MB)\n",
      "\u001b[K     |████████████████████████████████| 56.1 MB 276 kB/s eta 0:00:014   |▎                               | 552 kB 2.6 MB/s eta 0:00:22     |█▉                              | 3.1 MB 2.6 MB/s eta 0:00:21     |██████▏                         | 10.8 MB 2.6 MB/s eta 0:00:18��█                   | 22.8 MB 7.1 MB/s eta 0:00:05     |█████████████▎                  | 23.2 MB 7.1 MB/s eta 0:00:05      | 30.0 MB 1.3 MB/s eta 0:00:21     |███████████████████▋            | 34.3 MB 1.4 MB/s eta 0:00:16\n",
      "\u001b[?25hRequirement already satisfied: numpy>=1.14.5 in ./env/lib/python3.9/site-packages (from opencv-contrib-python) (1.23.4)\n",
      "Installing collected packages: opencv-contrib-python\n",
      "Successfully installed opencv-contrib-python-4.6.0.66\n",
      "\u001b[33mWARNING: You are using pip version 21.2.3; however, version 22.3 is available.\n",
      "You should consider upgrading via the '/Users/daver/Desktop/mini/env/bin/python3 -m pip install --upgrade pip' command.\u001b[0m\n",
      "Requirement already satisfied: numpy in ./env/lib/python3.9/site-packages (1.23.4)\n",
      "\u001b[33mWARNING: You are using pip version 21.2.3; however, version 22.3 is available.\n",
      "You should consider upgrading via the '/Users/daver/Desktop/mini/env/bin/python3 -m pip install --upgrade pip' command.\u001b[0m\n",
      "Collecting matplotlib\n",
      "  Using cached matplotlib-3.6.1-cp39-cp39-macosx_10_12_x86_64.whl (7.3 MB)\n",
      "Collecting contourpy>=1.0.1\n",
      "  Using cached contourpy-1.0.5-cp39-cp39-macosx_10_9_x86_64.whl (241 kB)\n",
      "Collecting kiwisolver>=1.0.1\n",
      "  Using cached kiwisolver-1.4.4-cp39-cp39-macosx_10_9_x86_64.whl (65 kB)\n",
      "Collecting python-dateutil>=2.7\n",
      "  Using cached python_dateutil-2.8.2-py2.py3-none-any.whl (247 kB)\n",
      "Collecting cycler>=0.10\n",
      "  Using cached cycler-0.11.0-py3-none-any.whl (6.4 kB)\n",
      "Collecting packaging>=20.0\n",
      "  Using cached packaging-21.3-py3-none-any.whl (40 kB)\n",
      "Collecting pyparsing>=2.2.1\n",
      "  Using cached pyparsing-3.0.9-py3-none-any.whl (98 kB)\n",
      "Collecting pillow>=6.2.0\n",
      "  Using cached Pillow-9.2.0-cp39-cp39-macosx_10_10_x86_64.whl (3.1 MB)\n",
      "Collecting fonttools>=4.22.0\n",
      "  Using cached fonttools-4.37.4-py3-none-any.whl (960 kB)\n",
      "Requirement already satisfied: numpy>=1.19 in ./env/lib/python3.9/site-packages (from matplotlib) (1.23.4)\n",
      "Collecting six>=1.5\n",
      "  Using cached six-1.16.0-py2.py3-none-any.whl (11 kB)\n",
      "Installing collected packages: six, pyparsing, python-dateutil, pillow, packaging, kiwisolver, fonttools, cycler, contourpy, matplotlib\n",
      "Successfully installed contourpy-1.0.5 cycler-0.11.0 fonttools-4.37.4 kiwisolver-1.4.4 matplotlib-3.6.1 packaging-21.3 pillow-9.2.0 pyparsing-3.0.9 python-dateutil-2.8.2 six-1.16.0\n",
      "\u001b[33mWARNING: You are using pip version 21.2.3; however, version 22.3 is available.\n",
      "You should consider upgrading via the '/Users/daver/Desktop/mini/env/bin/python3 -m pip install --upgrade pip' command.\u001b[0m\n"
     ]
    }
   ],
   "source": [
    "# Installing Modules \n",
    "# Install Python3\n",
    "\n",
    "! pip3 install opencv-python\n",
    "! pip3 install opencv-contrib-python # Running GPU Models\n",
    "! pip3 install numpy\n",
    "! pip3 install matplotlib"
   ]
  },
  {
   "cell_type": "code",
   "execution_count": 2,
   "metadata": {
    "id": "KqybrJtn7h4E"
   },
   "outputs": [],
   "source": [
    "# Create Tracker File"
   ]
  },
  {
   "cell_type": "markdown",
   "metadata": {
    "id": "tZyM-nTx8P0r"
   },
   "source": [
    "# Vehicle Counter\n"
   ]
  },
  {
   "cell_type": "code",
   "execution_count": 3,
   "metadata": {
    "id": "rmvZeUn-8Rwc"
   },
   "outputs": [
    {
     "ename": "ModuleNotFoundError",
     "evalue": "No module named 'cv2'",
     "output_type": "error",
     "traceback": [
      "\u001b[0;31m---------------------------------------------------------------------------\u001b[0m",
      "\u001b[0;31mModuleNotFoundError\u001b[0m                       Traceback (most recent call last)",
      "\u001b[0;32m/var/folders/dq/zq2spyr52zjfyw178gk_b_900000gn/T/ipykernel_17504/3202575164.py\u001b[0m in \u001b[0;36m<module>\u001b[0;34m\u001b[0m\n\u001b[1;32m      1\u001b[0m \u001b[0;31m# Import necessary packages\u001b[0m\u001b[0;34m\u001b[0m\u001b[0;34m\u001b[0m\u001b[0m\n\u001b[1;32m      2\u001b[0m \u001b[0;34m\u001b[0m\u001b[0m\n\u001b[0;32m----> 3\u001b[0;31m \u001b[0;32mimport\u001b[0m \u001b[0mcv2\u001b[0m\u001b[0;34m\u001b[0m\u001b[0;34m\u001b[0m\u001b[0m\n\u001b[0m\u001b[1;32m      4\u001b[0m \u001b[0;32mimport\u001b[0m \u001b[0mcsv\u001b[0m\u001b[0;34m\u001b[0m\u001b[0;34m\u001b[0m\u001b[0m\n\u001b[1;32m      5\u001b[0m \u001b[0;32mimport\u001b[0m \u001b[0mcollections\u001b[0m\u001b[0;34m\u001b[0m\u001b[0;34m\u001b[0m\u001b[0m\n",
      "\u001b[0;31mModuleNotFoundError\u001b[0m: No module named 'cv2'"
     ]
    }
   ],
   "source": [
    "# Import necessary packages\n",
    "\n",
    "import cv2\n",
    "import csv\n",
    "import collections\n",
    "import numpy as np\n",
    "from tracker import *\n",
    "\n",
    "# Initialize Tracker\n",
    "tracker = EuclideanDistTracker()\n",
    "\n",
    "\n",
    "# Detection confidence threshold\n",
    "confThreshold = 0.2 # minimum confidence score threshold for detection\n",
    "nmsThreshold = 0.2 # Non-Max suppression threshold\n",
    "\n",
    "\n"
   ]
  },
  {
   "cell_type": "code",
   "execution_count": null,
   "metadata": {
    "id": "8ZOxWuJf969c"
   },
   "outputs": [],
   "source": [
    "# Middle cross line position\n",
    "# crossing line positions that will be used to count vehicles\n",
    "# (ToDo : Modify According to your need)\n",
    "middle_line_position = 225   \n",
    "up_line_position = middle_line_position - 15\n",
    "down_line_position = middle_line_position + 15"
   ]
  },
  {
   "cell_type": "code",
   "execution_count": null,
   "metadata": {
    "colab": {
     "base_uri": "https://localhost:8080/"
    },
    "id": "TA1W7OoR-Y2L",
    "outputId": "de03af9e-db22-462d-fd3b-c1aca7ee0175"
   },
   "outputs": [],
   "source": [
    "# Store Coco Dataser Names in a list\n",
    "classesFile = \"coco.names\"\n",
    "classNames = open(classesFile).read().strip().split('\\n')\n",
    "print(classNames)\n",
    "print(len(classNames))"
   ]
  },
  {
   "cell_type": "code",
   "execution_count": null,
   "metadata": {
    "id": "RxtRAAUK-7uw"
   },
   "outputs": [],
   "source": [
    "# YOLOv3 is trained on the coco dataset, but we need only a few items\n",
    "# class index for our required detection classes\n",
    "required_class_index = [2, 3, 5, 7]\n",
    "\n",
    "detected_classNames = []"
   ]
  },
  {
   "cell_type": "code",
   "execution_count": null,
   "metadata": {
    "id": "8iasZWRW_TZv"
   },
   "outputs": [],
   "source": [
    "# Model Files\n",
    "modelConfiguration = 'yolov3-320.cfg'\n",
    "modelWeigheights = 'yolov3-320.weights'\n",
    "\n",
    "# configure the network model\n",
    "net = cv2.dnn.readNetFromDarknet(modelConfiguration, modelWeigheights)\n",
    "\n",
    "# Configure the network backend\n",
    "# If we are using a GPU, else comment out these lines\n",
    "net.setPreferableBackend(cv2.dnn.DNN_BACKEND_CUDA)\n",
    "net.setPreferableTarget(cv2.dnn.DNN_TARGET_CUDA)\n",
    "\n",
    "# Define random colour for each class\n",
    "np.random.seed(32)\n",
    "colors = np.random.randint(0, 255, size=(len(classNames), 3), dtype='uint8') # Setting random colour for each class"
   ]
  },
  {
   "cell_type": "code",
   "execution_count": null,
   "metadata": {
    "id": "CxDihZp0QDJp"
   },
   "outputs": [],
   "source": [
    "# Read Frames from a video file\n",
    "\n",
    "# Initialize the videocapture object\n",
    "cap = cv2.VideoCapture('video.mp4') # VideoCapture Object\n",
    "input_size = 320\n",
    "\n",
    "\n",
    "\n",
    "def realTime():\n",
    "    while True:\n",
    "        success, img = cap.read() # Read Each frame\n",
    "        img = cv2.resize(img,(0,0),None,0.5,0.5) # Reduce frames by 50%\n",
    "        ih, iw, channels = img.shape\n",
    "        blob = cv2.dnn.blobFromImage(img, 1 / 255, (input_size, input_size), [0, 0, 0], 1, crop=False)\n",
    "\n",
    "        # Set the input of the network\n",
    "        net.setInput(blob)\n",
    "        layersNames = net.getLayerNames()\n",
    "        outputNames = [(layersNames[i[0] - 1]) for i in net.getUnconnectedOutLayers()]\n",
    "        # Feed data to the network\n",
    "        outputs = net.forward(outputNames)\n",
    "    \n",
    "        # Find the objects from the network output\n",
    "        postProcess(outputs,img)\n",
    "\n",
    "        # Draw the crossing lines\n",
    "\n",
    "        cv2.line(img, (0, middle_line_position), (iw, middle_line_position), (255, 0, 255), 2)\n",
    "        cv2.line(img, (0, up_line_position), (iw, up_line_position), (0, 0, 255), 2)\n",
    "        cv2.line(img, (0, down_line_position), (iw, down_line_position), (0, 0, 255), 2)\n",
    "\n",
    "        # Draw counting texts in the frame\n",
    "        cv2.putText(img, \"Up\", (110, 20), cv2.FONT_HERSHEY_SIMPLEX, font_size, font_color, font_thickness)\n",
    "        cv2.putText(img, \"Down\", (160, 20), cv2.FONT_HERSHEY_SIMPLEX, font_size, font_color, font_thickness)\n",
    "        cv2.putText(img, \"Car:        \"+str(up_list[0])+\"     \"+ str(down_list[0]), (20, 40), cv2.FONT_HERSHEY_SIMPLEX, font_size, font_color, font_thickness)\n",
    "        cv2.putText(img, \"Motorbike:  \"+str(up_list[1])+\"     \"+ str(down_list[1]), (20, 60), cv2.FONT_HERSHEY_SIMPLEX, font_size, font_color, font_thickness)\n",
    "        cv2.putText(img, \"Bus:        \"+str(up_list[2])+\"     \"+ str(down_list[2]), (20, 80), cv2.FONT_HERSHEY_SIMPLEX, font_size, font_color, font_thickness)\n",
    "        cv2.putText(img, \"Truck:      \"+str(up_list[3])+\"     \"+ str(down_list[3]), (20, 100), cv2.FONT_HERSHEY_SIMPLEX, font_size, font_color, font_thickness)\n",
    "\n",
    "        # Show the frames\n",
    "        cv2.imshow('Output', img)\n",
    "\n",
    "        if cv2.waitKey(1) == ord('q'):\n",
    "            break\n",
    "\n",
    "    # Write the vehicle counting information in a file and save it\n",
    "\n",
    "    with open(\"data.csv\", 'w') as f1:\n",
    "        cwriter = csv.writer(f1)\n",
    "        cwriter.writerow(['Direction', 'car', 'motorbike', 'bus', 'truck'])\n",
    "        up_list.insert(0, \"Up\")\n",
    "        down_list.insert(0, \"Down\")\n",
    "        cwriter.writerow(up_list)\n",
    "        cwriter.writerow(down_list)\n",
    "    f1.close()\n",
    "    # print(\"Data saved at 'data.csv'\")\n",
    "    # Finally realese the capture object and destroy all active windows\n",
    "    cap.release()\n",
    "    cv2.destroyAllWindows()"
   ]
  }
 ],
 "metadata": {
  "colab": {
   "collapsed_sections": [],
   "provenance": []
  },
  "kernelspec": {
   "display_name": "Python 3 (ipykernel)",
   "language": "python",
   "name": "python3"
  },
  "language_info": {
   "codemirror_mode": {
    "name": "ipython",
    "version": 3
   },
   "file_extension": ".py",
   "mimetype": "text/x-python",
   "name": "python",
   "nbconvert_exporter": "python",
   "pygments_lexer": "ipython3",
   "version": "3.9.7"
  }
 },
 "nbformat": 4,
 "nbformat_minor": 1
}
